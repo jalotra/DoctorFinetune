{
 "cells": [
  {
   "cell_type": "code",
   "execution_count": 1,
   "metadata": {},
   "outputs": [],
   "source": [
    "# This is a custom Batch Maker\n",
    "import os\n",
    "import sys\n",
    "import numpy as np\n",
    "from SamplePreprocessor import preprocessor as preprocess\n",
    "import cv2\n",
    "from DataLoader import Batch, DataLoader, FilePaths\n",
    "from SamplePreprocessor import preprocessor as preprocess\n",
    "from SamplePreprocessor import wer\n",
    "from Model import DecoderType, Model\n",
    "import tensorflow as tf\n",
    "%matplotlib inline"
   ]
  },
  {
   "cell_type": "code",
   "execution_count": 5,
   "metadata": {},
   "outputs": [
    {
     "ename": "TypeError",
     "evalue": "bad argument type for built-in operation",
     "output_type": "error",
     "traceback": [
      "\u001b[0;31m---------------------------------------------------------------------------\u001b[0m",
      "\u001b[0;31mTypeError\u001b[0m                                 Traceback (most recent call last)",
      "\u001b[0;32m<ipython-input-5-47300d7ab37f>\u001b[0m in \u001b[0;36m<module>\u001b[0;34m\u001b[0m\n\u001b[1;32m      3\u001b[0m \u001b[0;32mfor\u001b[0m \u001b[0mfile\u001b[0m \u001b[0;32min\u001b[0m \u001b[0mos\u001b[0m\u001b[0;34m.\u001b[0m\u001b[0mlistdir\u001b[0m\u001b[0;34m(\u001b[0m\u001b[0mfolder_name\u001b[0m\u001b[0;34m)\u001b[0m\u001b[0;34m:\u001b[0m\u001b[0;34m\u001b[0m\u001b[0;34m\u001b[0m\u001b[0m\n\u001b[1;32m      4\u001b[0m     \u001b[0mimg\u001b[0m \u001b[0;34m=\u001b[0m \u001b[0mcv2\u001b[0m\u001b[0;34m.\u001b[0m\u001b[0mimread\u001b[0m\u001b[0;34m(\u001b[0m\u001b[0mfolder_name\u001b[0m \u001b[0;34m+\u001b[0m \u001b[0;34m\"/\"\u001b[0m \u001b[0;34m+\u001b[0m \u001b[0mfile\u001b[0m \u001b[0;34m)\u001b[0m\u001b[0;34m\u001b[0m\u001b[0;34m\u001b[0m\u001b[0m\n\u001b[0;32m----> 5\u001b[0;31m     \u001b[0mcv2\u001b[0m\u001b[0;34m.\u001b[0m\u001b[0mimshow\u001b[0m\u001b[0;34m(\u001b[0m\u001b[0mimg\u001b[0m\u001b[0;34m,\u001b[0m \u001b[0;34m\"{}\"\u001b[0m\u001b[0;34m.\u001b[0m\u001b[0mformat\u001b[0m\u001b[0;34m(\u001b[0m\u001b[0mcnt\u001b[0m\u001b[0;34m)\u001b[0m\u001b[0;34m)\u001b[0m\u001b[0;34m\u001b[0m\u001b[0;34m\u001b[0m\u001b[0m\n\u001b[0m\u001b[1;32m      6\u001b[0m     \u001b[0mcnt\u001b[0m \u001b[0;34m+=\u001b[0m \u001b[0;36m1\u001b[0m\u001b[0;34m\u001b[0m\u001b[0;34m\u001b[0m\u001b[0m\n\u001b[1;32m      7\u001b[0m \u001b[0mget_ipython\u001b[0m\u001b[0;34m(\u001b[0m\u001b[0;34m)\u001b[0m\u001b[0;34m.\u001b[0m\u001b[0mrun_line_magic\u001b[0m\u001b[0;34m(\u001b[0m\u001b[0;34m'pinfo'\u001b[0m\u001b[0;34m,\u001b[0m \u001b[0;34m' cv2.imshow'\u001b[0m\u001b[0;34m)\u001b[0m\u001b[0;34m\u001b[0m\u001b[0;34m\u001b[0m\u001b[0m\n",
      "\u001b[0;31mTypeError\u001b[0m: bad argument type for built-in operation"
     ]
    }
   ],
   "source": [
    "folder_name = \"../data/words/g01/g01-000\"\n",
    "cnt = 0\n",
    "for file in os.listdir(folder_name):\n",
    "    img = cv2.imread(folder_name + \"/\" + file )\n",
    "    cv2.imshow(img, \"{}\".format(cnt))\n",
    "    cnt += 1"
   ]
  },
  {
   "cell_type": "code",
   "execution_count": 18,
   "metadata": {},
   "outputs": [
    {
     "name": "stdout",
     "output_type": "stream",
     "text": [
      "['g01-000-00-00.png', 'g01-000-00-01.png', 'g01-000-00-02.png', 'g01-000-00-03.png', 'g01-000-00-04.png', 'g01-000-00-05.png', 'g01-000-00-06.png', 'g01-000-00-07.png', 'g01-000-00-08.png', 'g01-000-01-00.png', 'g01-000-01-01.png', 'g01-000-01-02.png', 'g01-000-01-03.png', 'g01-000-01-04.png', 'g01-000-01-05.png', 'g01-000-01-06.png', 'g01-000-01-07.png', 'g01-000-01-08.png', 'g01-000-01-09.png', 'g01-000-01-10.png', 'g01-000-02-00.png', 'g01-000-02-01.png', 'g01-000-02-02.png', 'g01-000-02-03.png', 'g01-000-02-04.png', 'g01-000-02-05.png', 'g01-000-02-06.png', 'g01-000-02-07.png', 'g01-000-02-08.png', 'g01-000-03-00.png', 'g01-000-03-01.png', 'g01-000-03-02.png', 'g01-000-03-03.png', 'g01-000-03-04.png', 'g01-000-03-05.png', 'g01-000-03-06.png', 'g01-000-03-07.png', 'g01-000-03-08.png', 'g01-000-03-09.png', 'g01-000-04-00.png', 'g01-000-04-01.png', 'g01-000-04-02.png', 'g01-000-04-03.png', 'g01-000-04-04.png', 'g01-000-04-05.png', 'g01-000-04-06.png', 'g01-000-04-07.png', 'g01-000-05-00.png', 'g01-000-05-01.png', 'g01-000-05-02.png', 'g01-000-05-03.png', 'g01-000-05-04.png', 'g01-000-05-05.png', 'g01-000-05-06.png', 'g01-000-05-07.png', 'g01-000-05-08.png', 'g01-000-05-09.png', 'g01-000-05-10.png', 'g01-000-06-00.png', 'g01-000-06-01.png', 'g01-000-06-02.png', 'g01-000-06-03.png', 'g01-000-06-04.png', 'g01-000-06-05.png', 'g01-000-06-06.png', 'g01-000-06-07.png', 'g01-000-07-00.png', 'g01-000-07-01.png', 'g01-000-07-02.png', 'g01-000-07-03.png', 'g01-000-07-04.png', 'g01-000-07-05.png', 'g01-000-07-06.png', 'g01-000-07-07.png', 'g01-000-07-08.png', 'g01-000-08-00.png', 'g01-000-08-01.png', 'g01-000-08-02.png', 'g01-000-08-03.png'] 79\n",
      "[[[251. 251. 251. ...  49.  52. 149.]\n",
      "  [251. 251. 251. ...  58.  80. 231.]\n",
      "  [251. 251. 250. ... 166. 232. 244.]\n",
      "  ...\n",
      "  [255. 255. 255. ... 255. 255. 255.]\n",
      "  [255. 255. 255. ... 255. 255. 255.]\n",
      "  [255. 255. 255. ... 255. 255. 255.]]\n",
      "\n",
      " [[251. 251. 251. ... 248. 251. 250.]\n",
      "  [251. 251. 251. ... 249. 248. 251.]\n",
      "  [251. 251. 251. ... 247. 251. 251.]\n",
      "  ...\n",
      "  [255. 255. 255. ... 255. 255. 255.]\n",
      "  [255. 255. 255. ... 255. 255. 255.]\n",
      "  [255. 255. 255. ... 255. 255. 255.]]\n",
      "\n",
      " [[251. 251. 251. ... 255. 255. 255.]\n",
      "  [251. 251. 251. ... 255. 255. 255.]\n",
      "  [251. 251. 250. ... 255. 255. 255.]\n",
      "  ...\n",
      "  [255. 255. 255. ... 255. 255. 255.]\n",
      "  [255. 255. 255. ... 255. 255. 255.]\n",
      "  [255. 255. 255. ... 255. 255. 255.]]\n",
      "\n",
      " ...\n",
      "\n",
      " [[249. 250. 248. ... 241. 241. 250.]\n",
      "  [245. 247. 246. ... 237. 244. 249.]\n",
      "  [250. 249. 244. ... 192. 239. 240.]\n",
      "  ...\n",
      "  [255. 255. 255. ... 255. 255. 255.]\n",
      "  [255. 255. 255. ... 255. 255. 255.]\n",
      "  [255. 255. 255. ... 255. 255. 255.]]\n",
      "\n",
      " [[250. 250. 249. ... 251. 255. 255.]\n",
      "  [250. 248. 250. ... 250. 255. 255.]\n",
      "  [251. 249. 249. ... 251. 255. 255.]\n",
      "  ...\n",
      "  [255. 255. 255. ... 255. 255. 255.]\n",
      "  [255. 255. 255. ... 255. 255. 255.]\n",
      "  [255. 255. 255. ... 255. 255. 255.]]\n",
      "\n",
      " [[239. 239. 234. ... 235. 240. 240.]\n",
      "  [239. 238. 233. ... 235. 240. 240.]\n",
      "  [232. 231. 223. ... 226. 236. 236.]\n",
      "  ...\n",
      "  [255. 255. 255. ... 255. 255. 255.]\n",
      "  [255. 255. 255. ... 255. 255. 255.]\n",
      "  [255. 255. 255. ... 255. 255. 255.]]] [None, None, None, None, None, None, None, None, None, None, None, None, None, None, None, None, None, None, None, None, None, None, None, None, None, None, None, None, None, None, None, None, None, None, None, None, None, None, None, None, None, None, None, None, None, None, None, None, None, None, None, None, None, None, None, None, None, None, None, None, None, None, None, None, None, None, None, None, None, None, None, None, None, None, None, None, None, None, None]\n"
     ]
    }
   ],
   "source": [
    "Folder = \"../data\"\n",
    "# !ls \"../data/words/g01/g01-000\"\n",
    "folder_name = \"../data/words/g01/g01-000\"\n",
    "images_list = os.listdir(folder_name)\n",
    "print(images_list, len(images_list))\n",
    "class Batch:\n",
    "    def __init__(self, gtTexts, imgs):\n",
    "        self.imgs = np.stack(imgs, axis = 0)\n",
    "        self.gtTexts = gtTexts\n",
    "imgSize = (128, 32)\n",
    "def getNext():\n",
    "    batchRange = range(0,  len(images_list))\n",
    "    gtTexts = [None for i in batchRange]\n",
    "    imgs = [preprocess(cv2.imread(folder_name + \"/\" +images_list[i], cv2.IMREAD_GRAYSCALE), imgSize) for i in batchRange]\n",
    "#     self.currIdx += self.batchSize\n",
    "    return Batch(gtTexts, imgs)\n",
    "\n",
    "B = getNext()\n",
    "print(B.imgs, B.gtTexts)"
   ]
  },
  {
   "cell_type": "code",
   "execution_count": 19,
   "metadata": {},
   "outputs": [],
   "source": [
    "def infer(model, batch):\n",
    "    tf.reset_default_graph()\n",
    "    \"recognize text in image provided by file path\"\n",
    "    # \timg = preprocess(cv2.imread(fnImg, cv2.IMREAD_GRAYSCALE), Model.imgSize)\n",
    "#     batch = Batch(None, [img])\n",
    "    tf.reset_default_graph()\n",
    "    recognized = model.inferBatch(batch)\n",
    "    return recognized\n",
    "#     print('Probability:', probability[0])"
   ]
  },
  {
   "cell_type": "code",
   "execution_count": 20,
   "metadata": {},
   "outputs": [
    {
     "name": "stdout",
     "output_type": "stream",
     "text": [
      "LAYER1 :  (?, 64, 16, 64)\n",
      "LAYER2 :  (?, 32, 8, 128)\n",
      "LAYER3 :  (?, 32, 8, 256)\n",
      "LAYER4 :  (?, 32, 4, 512)\n",
      "LAYER5 :  (?, 32, 4, 512)\n",
      "LAYER6 :  (?, 32, 4, 512)\n",
      "LAYER 7 :  (?, 32, 1, 512)\n",
      "RNNLAYER :  (?, 32, 80)\n",
      "Python: 3.6.8 (default, Jan 14 2019, 11:02:34) \n",
      "[GCC 8.0.1 20180414 (experimental) [trunk revision 259383]]\n",
      "Tensorflow: 1.15.0\n",
      "Init with stored values from ../model/snapshot-35\n",
      "['A', 'Scottish', 'knight', '-', 'Sir', 'John', 'Mercer', '-', 'was', 'imprisoned', 'in', 'England', ',', 'His', 'son', ',', 'in', 'revenge', ',', 'was', 'harrying', 'English', 'shipping', 'as', 'far', 'away', 'as', 'Cherbourg', ',', 'and', 'doing', 'it', 'to', 'some', 'purpoe', '.', 'John', 'Philpot', \"'\", 'one', 'of', 'that', 'new', 'class', 'of', 'merchant', 'financiers', 'which', 'the', 'city', 'of', 'London', 'was', 'now', 'producing', ',', 'fitted', ',', 'equipped', 'and', 'manned', 'a', 'fleet', 'from', 'his', 'own', 'resources', ',', 'and', 'captured', 'the', 'young', 'Mercer', 'in', 'a', 'brilliant', 'Channel', 'fight', '.']\n"
     ]
    }
   ],
   "source": [
    "decoderType = DecoderType.BestPath\n",
    "tf.reset_default_graph()\n",
    "model = Model(open(FilePaths.fnCharList).read(), decoderType, mustRestore=True)\n",
    "recognised = infer(model, B)\n",
    "print(recognised)"
   ]
  },
  {
   "cell_type": "code",
   "execution_count": null,
   "metadata": {},
   "outputs": [],
   "source": []
  }
 ],
 "metadata": {
  "kernelspec": {
   "display_name": "Python 3",
   "language": "python",
   "name": "python3"
  }
 },
 "nbformat": 4,
 "nbformat_minor": 2
}
